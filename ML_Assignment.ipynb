{
  "nbformat": 4,
  "nbformat_minor": 0,
  "metadata": {
    "colab": {
      "name": "ML Assignment.ipynb",
      "version": "0.3.2",
      "provenance": [],
      "collapsed_sections": []
    },
    "kernelspec": {
      "name": "python3",
      "display_name": "Python 3"
    },
    "accelerator": "GPU"
  },
  "cells": [
    {
      "cell_type": "code",
      "metadata": {
        "id": "BTZ0vLmb6IuL",
        "colab_type": "code",
        "colab": {
          "base_uri": "https://localhost:8080/",
          "height": 122
        },
        "outputId": "5b0a571b-2529-471f-94ab-4e99fbb719be"
      },
      "source": [
        "from google.colab import drive\n",
        "drive.mount('/content/gdrive')"
      ],
      "execution_count": 1,
      "outputs": [
        {
          "output_type": "stream",
          "text": [
            "Go to this URL in a browser: https://accounts.google.com/o/oauth2/auth?client_id=947318989803-6bn6qk8qdgf4n4g3pfee6491hc0brc4i.apps.googleusercontent.com&redirect_uri=urn%3Aietf%3Awg%3Aoauth%3A2.0%3Aoob&scope=email%20https%3A%2F%2Fwww.googleapis.com%2Fauth%2Fdocs.test%20https%3A%2F%2Fwww.googleapis.com%2Fauth%2Fdrive%20https%3A%2F%2Fwww.googleapis.com%2Fauth%2Fdrive.photos.readonly%20https%3A%2F%2Fwww.googleapis.com%2Fauth%2Fpeopleapi.readonly&response_type=code\n",
            "\n",
            "Enter your authorization code:\n",
            "··········\n",
            "Mounted at /content/gdrive\n"
          ],
          "name": "stdout"
        }
      ]
    },
    {
      "cell_type": "code",
      "metadata": {
        "id": "QZRRPkSm6rbS",
        "colab_type": "code",
        "colab": {
          "base_uri": "https://localhost:8080/",
          "height": 34
        },
        "outputId": "1c58d612-2db9-4ac3-d092-1bad562f4156"
      },
      "source": [
        "import os\n",
        "os.chdir(\"/content/gdrive/My Drive/data_set\")\n",
        "os.getcwd()"
      ],
      "execution_count": 24,
      "outputs": [
        {
          "output_type": "execute_result",
          "data": {
            "text/plain": [
              "'/content/gdrive/My Drive/data_set'"
            ]
          },
          "metadata": {
            "tags": []
          },
          "execution_count": 24
        }
      ]
    },
    {
      "cell_type": "code",
      "metadata": {
        "id": "HkgEerDyqoEQ",
        "colab_type": "code",
        "colab": {}
      },
      "source": [
        "!apt-get -qq install -y graphviz && pip install -q pydot\n",
        "import pydot"
      ],
      "execution_count": 0,
      "outputs": []
    },
    {
      "cell_type": "code",
      "metadata": {
        "id": "kliAa7qyqxyz",
        "colab_type": "code",
        "colab": {}
      },
      "source": [
        "!pip install -q matplotlib-venn"
      ],
      "execution_count": 0,
      "outputs": []
    },
    {
      "cell_type": "code",
      "metadata": {
        "id": "NsF_tKeNq7Xm",
        "colab_type": "code",
        "colab": {
          "base_uri": "https://localhost:8080/",
          "height": 136
        },
        "outputId": "de3f695f-d20c-457e-9782-f9b4e41e72a4"
      },
      "source": [
        "!apt-get -qq install -y libfluidsynth1"
      ],
      "execution_count": 17,
      "outputs": [
        {
          "output_type": "stream",
          "text": [
            "Selecting previously unselected package libfluidsynth1:amd64.\n",
            "(Reading database ... \r(Reading database ... 5%\r(Reading database ... 10%\r(Reading database ... 15%\r(Reading database ... 20%\r(Reading database ... 25%\r(Reading database ... 30%\r(Reading database ... 35%\r(Reading database ... 40%\r(Reading database ... 45%\r(Reading database ... 50%\r(Reading database ... 55%\r(Reading database ... 60%\r(Reading database ... 65%\r(Reading database ... 70%\r(Reading database ... 75%\r(Reading database ... 80%\r(Reading database ... 85%\r(Reading database ... 90%\r(Reading database ... 95%\r(Reading database ... 100%\r(Reading database ... 131183 files and directories currently installed.)\n",
            "Preparing to unpack .../libfluidsynth1_1.1.9-1_amd64.deb ...\n",
            "Unpacking libfluidsynth1:amd64 (1.1.9-1) ...\n",
            "Processing triggers for libc-bin (2.27-3ubuntu1) ...\n",
            "Setting up libfluidsynth1:amd64 (1.1.9-1) ...\n",
            "Processing triggers for libc-bin (2.27-3ubuntu1) ...\n"
          ],
          "name": "stdout"
        }
      ]
    },
    {
      "cell_type": "code",
      "metadata": {
        "id": "aN573yEfrC_q",
        "colab_type": "code",
        "colab": {
          "base_uri": "https://localhost:8080/",
          "height": 136
        },
        "outputId": "18b118d3-44c8-4fe9-9665-f7b4885d34d9"
      },
      "source": [
        "# https://pypi.python.org/pypi/libarchive\n",
        "!apt-get -qq install -y libarchive-dev && pip install -q -U libarchive\n",
        "import libarchive"
      ],
      "execution_count": 18,
      "outputs": [
        {
          "output_type": "stream",
          "text": [
            "Selecting previously unselected package libarchive-dev:amd64.\n",
            "(Reading database ... \r(Reading database ... 5%\r(Reading database ... 10%\r(Reading database ... 15%\r(Reading database ... 20%\r(Reading database ... 25%\r(Reading database ... 30%\r(Reading database ... 35%\r(Reading database ... 40%\r(Reading database ... 45%\r(Reading database ... 50%\r(Reading database ... 55%\r(Reading database ... 60%\r(Reading database ... 65%\r(Reading database ... 70%\r(Reading database ... 75%\r(Reading database ... 80%\r(Reading database ... 85%\r(Reading database ... 90%\r(Reading database ... 95%\r(Reading database ... 100%\r(Reading database ... 131188 files and directories currently installed.)\n",
            "Preparing to unpack .../libarchive-dev_3.2.2-3.1ubuntu0.3_amd64.deb ...\n",
            "Unpacking libarchive-dev:amd64 (3.2.2-3.1ubuntu0.3) ...\n",
            "Processing triggers for man-db (2.8.3-2ubuntu0.1) ...\n",
            "Setting up libarchive-dev:amd64 (3.2.2-3.1ubuntu0.3) ...\n",
            "  Building wheel for libarchive (setup.py) ... \u001b[?25l\u001b[?25hdone\n"
          ],
          "name": "stdout"
        }
      ]
    },
    {
      "cell_type": "code",
      "metadata": {
        "id": "iRPGzM5uriNg",
        "colab_type": "code",
        "colab": {}
      },
      "source": [
        "# Import libraries\n",
        "from __future__ import print_function, division\n",
        "\n",
        "import numpy as np\n",
        "import random\n",
        "import os\n",
        "import glob\n",
        "import cv2\n",
        "import datetime\n",
        "import pandas as pd\n",
        "import time\n",
        "import h5py\n",
        "#import csv\n",
        "\n",
        "#from scipy.misc import imresize, imsave\n",
        "\n",
        "from sklearn.metrics import log_loss, confusion_matrix\n",
        "#from sklearn.utils import shuffle\n",
        "from sklearn import model_selection\n",
        "from sklearn.model_selection import train_test_split, KFold\n",
        "from PIL import Image, ImageChops, ImageOps\n",
        "\n",
        "import matplotlib.pyplot as plt\n",
        "import seaborn as sns\n",
        "\n",
        "from keras.models import load_model\n",
        "from keras.callbacks import EarlyStopping, ModelCheckpoint\n",
        "from keras.callbacks import ReduceLROnPlateau\n",
        "from keras.optimizers import RMSprop\n",
        "from keras import backend as K\n",
        "from keras.callbacks import EarlyStopping, Callback\n",
        "from keras.utils import np_utils\n",
        "from keras.preprocessing.image import ImageDataGenerator, load_img, img_to_array\n",
        "from keras import optimizers\n",
        "from keras.models import Sequential, model_from_json\n",
        "from keras.layers import Convolution2D, MaxPooling2D, ZeroPadding2D, Activation, Dropout, Flatten, Dense, BatchNormalization\n",
        "#Importing the Keras libraries and packages\n",
        "from keras.models import Sequential\n",
        "from keras.layers import Conv2D\n",
        "from keras.layers import MaxPooling2D\n",
        "from keras.layers import Flatten\n",
        "from keras.layers import Dense\n",
        "# use ImageDataGenerator to preprocess the data\n",
        "from keras.preprocessing.image import ImageDataGenerator"
      ],
      "execution_count": 0,
      "outputs": []
    },
    {
      "cell_type": "code",
      "metadata": {
        "id": "N87-Izw6rkzO",
        "colab_type": "code",
        "colab": {}
      },
      "source": [
        "path = \"/content/gdrive/My Drive/data_set\"\n",
        "files = os.listdir(path)\n",
        "categories = []\n",
        "\n",
        "for filename in files:\n",
        "    category = filename.split('.')[0]\n",
        "    if category == 'class0':\n",
        "        categories.append(0)\n",
        "    elif category == 'class1':\n",
        "        categories.append(1)\n",
        "    elif category == 'class2':\n",
        "        categories.append(2)   \n",
        "    elif category == 'class3':\n",
        "        categories.append(3)\n",
        "    elif category == 'class4':\n",
        "        categories.append(4)\n",
        "    elif category == 'class5':\n",
        "        categories.append(5)\n",
        "    elif category == 'class6':\n",
        "        categories.append(6)\n",
        "    else: pass\n",
        "df = pd.DataFrame({\n",
        "    'filename': files,\n",
        "    'category': categories\n",
        "})"
      ],
      "execution_count": 0,
      "outputs": []
    },
    {
      "cell_type": "code",
      "metadata": {
        "id": "X02vNNFe9E2C",
        "colab_type": "code",
        "colab": {
          "base_uri": "https://localhost:8080/",
          "height": 282
        },
        "outputId": "0c51663e-475e-4f10-f899-7a83d4e0f19e"
      },
      "source": [
        "#Bar chart for the categories\n",
        "df['category'].value_counts().plot.bar()"
      ],
      "execution_count": 27,
      "outputs": [
        {
          "output_type": "execute_result",
          "data": {
            "text/plain": [
              "<matplotlib.axes._subplots.AxesSubplot at 0x7f65acc1a7f0>"
            ]
          },
          "metadata": {
            "tags": []
          },
          "execution_count": 27
        },
        {
          "output_type": "display_data",
          "data": {
            "image/png": "[encoded data removed]",
            "text/plain": [
              "<Figure size 432x288 with 1 Axes>"
            ]
          },
          "metadata": {
            "tags": []
          }
        }
      ]
    },
    {
      "cell_type": "code",
      "metadata": {
        "id": "1FwqrCWV9I5a",
        "colab_type": "code",
        "colab": {
          "base_uri": "https://localhost:8080/",
          "height": 265
        },
        "outputId": "94efe1c9-f44f-49bb-9540-1987a9e0af54"
      },
      "source": [
        "#Prepare Test and Train Data\n",
        "\n",
        "train_df, validate_df = train_test_split(df, test_size=0.20, random_state=42)\n",
        "\n",
        "train_df = train_df.reset_index(drop=True)\n",
        "validate_df = validate_df.reset_index(drop=True)\n",
        "\n",
        "train_df['category'].value_counts().plot.bar()\n",
        "\n",
        "total_train = train_df.shape[0] #the number of images in the training df\n",
        "total_validate = validate_df.shape[0]  #the number of images in the validate df\n",
        "batch_size=18"
      ],
      "execution_count": 28,
      "outputs": [
        {
          "output_type": "display_data",
          "data": {
            "image/png": "[encoded data removed]",
            "text/plain": [
              "<Figure size 432x288 with 1 Axes>"
            ]
          },
          "metadata": {
            "tags": []
          }
        }
      ]
    },
    {
      "cell_type": "code",
      "metadata": {
        "id": "_cAVYVhs9Wfd",
        "colab_type": "code",
        "outputId": "2a48ac85-f631-4d74-d99f-1d10ed645dfa",
        "colab": {
          "base_uri": "https://localhost:8080/",
          "height": 476
        }
      },
      "source": [
        "IMAGE_WIDTH=96\n",
        "IMAGE_HEIGHT=96\n",
        "IMAGE_SIZE=(IMAGE_WIDTH, IMAGE_HEIGHT)\n",
        "IMAGE_CHANNELS=3 # RGB color\n",
        "\n",
        "model = Sequential()\n",
        "\n",
        "model.add(Conv2D(32, (3, 3), activation='relu', input_shape=(IMAGE_WIDTH, IMAGE_HEIGHT, IMAGE_CHANNELS)))\n",
        "model.add(BatchNormalization())\n",
        "model.add(MaxPooling2D(pool_size=(2, 2)))\n",
        "\n",
        "model.add(Conv2D(64, (3,3), activation=\"relu\"))\n",
        "model.add(BatchNormalization())\n",
        "model.add(MaxPooling2D(pool_size=(2, 2)))\n",
        "\n",
        "model.add(Flatten())\n",
        "model.add(Dense(256, activation='relu'))\n",
        "model.add(Dropout(0.5))\n",
        "model.add(Dense(7, activation='sigmoid'))\n",
        "\n",
        "model.compile(optimizer='adam', loss='categorical_crossentropy', metrics=['accuracy'])\n",
        "\n",
        "model.summary()"
      ],
      "execution_count": 30,
      "outputs": [
        {
          "output_type": "stream",
          "text": [
            "_________________________________________________________________\n",
            "Layer (type)                 Output Shape              Param #   \n",
            "=================================================================\n",
            "conv2d_3 (Conv2D)            (None, 94, 94, 32)        896       \n",
            "_________________________________________________________________\n",
            "batch_normalization_3 (Batch (None, 94, 94, 32)        128       \n",
            "_________________________________________________________________\n",
            "max_pooling2d_3 (MaxPooling2 (None, 47, 47, 32)        0         \n",
            "_________________________________________________________________\n",
            "conv2d_4 (Conv2D)            (None, 45, 45, 64)        18496     \n",
            "_________________________________________________________________\n",
            "batch_normalization_4 (Batch (None, 45, 45, 64)        256       \n",
            "_________________________________________________________________\n",
            "max_pooling2d_4 (MaxPooling2 (None, 22, 22, 64)        0         \n",
            "_________________________________________________________________\n",
            "flatten_2 (Flatten)          (None, 30976)             0         \n",
            "_________________________________________________________________\n",
            "dense_3 (Dense)              (None, 256)               7930112   \n",
            "_________________________________________________________________\n",
            "dropout_2 (Dropout)          (None, 256)               0         \n",
            "_________________________________________________________________\n",
            "dense_4 (Dense)              (None, 7)                 1799      \n",
            "=================================================================\n",
            "Total params: 7,951,687\n",
            "Trainable params: 7,951,495\n",
            "Non-trainable params: 192\n",
            "_________________________________________________________________\n"
          ],
          "name": "stdout"
        }
      ]
    },
    {
      "cell_type": "code",
      "metadata": {
        "id": "vDoOi3yh9njZ",
        "colab_type": "code",
        "outputId": "6e0c1838-f233-4c53-a721-37db90330d4f",
        "colab": {
          "base_uri": "https://localhost:8080/",
          "height": 51
        }
      },
      "source": [
        "    train_datagen = ImageDataGenerator(\n",
        "    rescale=1./255,\n",
        "    shear_range=0.2,\n",
        "    zoom_range=0.2,\n",
        "    horizontal_flip=True)\n",
        "\n",
        "    test_datagen = ImageDataGenerator(rescale=1./255)\n",
        "\n",
        "    train_generator = train_datagen.flow_from_directory(\n",
        "    '/content/gdrive/My Drive/data_set',\n",
        "    target_size=(96, 96),\n",
        "    batch_size=32,\n",
        "    class_mode='categorical')\n",
        "\n",
        "    validation_generator = test_datagen.flow_from_directory(\n",
        "    '/content/gdrive/My Drive/validation_data',\n",
        "    target_size=(96, 96),\n",
        "    batch_size=64,\n",
        "    class_mode='categorical')\n",
        "\n",
        "    "
      ],
      "execution_count": 38,
      "outputs": [
        {
          "output_type": "stream",
          "text": [
            "Found 1185 images belonging to 7 classes.\n",
            "Found 501 images belonging to 7 classes.\n"
          ],
          "name": "stdout"
        }
      ]
    },
    {
      "cell_type": "code",
      "metadata": {
        "id": "QCJ9nW1jUcUP",
        "colab_type": "code",
        "colab": {
          "base_uri": "https://localhost:8080/",
          "height": 282
        },
        "outputId": "967a1022-26a3-463e-d577-e74b282d5a88"
      },
      "source": [
        "validate_df['category'].value_counts().plot.bar()"
      ],
      "execution_count": 39,
      "outputs": [
        {
          "output_type": "execute_result",
          "data": {
            "text/plain": [
              "<matplotlib.axes._subplots.AxesSubplot at 0x7f654f116048>"
            ]
          },
          "metadata": {
            "tags": []
          },
          "execution_count": 39
        },
        {
          "output_type": "display_data",
          "data": {
            "image/png": "[encoded data removed]",
            "text/plain": [
              "<Figure size 432x288 with 1 Axes>"
            ]
          },
          "metadata": {
            "tags": []
          }
        }
      ]
    },
    {
      "cell_type": "code",
      "metadata": {
        "id": "3wSK0CsmHoqT",
        "colab_type": "code",
        "colab": {}
      },
      "source": [
        "#Early Stopping \n",
        "\n",
        "earlystop = EarlyStopping(patience=10)\n",
        "\n",
        "#Learning Rate Reduction\n",
        "\n",
        "#We will reduce the learning rate when then accuracy is not increasing for 2 steps\n",
        "learning_rate_reduction = ReduceLROnPlateau(monitor='val_acc', \n",
        "                                            patience=2, \n",
        "                                            verbose=1, \n",
        "                                            factor=0.5, \n",
        "                                            min_lr=0.00001)\n",
        "\n",
        "callbacks = [earlystop, learning_rate_reduction]"
      ],
      "execution_count": 0,
      "outputs": []
    },
    {
      "cell_type": "code",
      "metadata": {
        "id": "E5ubQcyHUBJt",
        "colab_type": "code",
        "colab": {
          "base_uri": "https://localhost:8080/",
          "height": 1000
        },
        "outputId": "e72148ec-bc42-4c19-bca3-746ec5d5a823"
      },
      "source": [
        "#Fit Model\n",
        "\n",
        "history = model.fit_generator(\n",
        "    train_generator, \n",
        "    epochs=30,\n",
        "    validation_data=validation_generator,\n",
        "    validation_steps=total_validate/batch_size,\n",
        "    steps_per_epoch=total_train/batch_size,\n",
        "    callbacks=callbacks\n",
        ")"
      ],
      "execution_count": 41,
      "outputs": [
        {
          "output_type": "stream",
          "text": [
            "Epoch 1/30\n",
            "1/0 [===========================================================================================================] - 16s 16s/step - loss: 2.7385 - acc: 0.0312 - val_loss: 2.9222 - val_acc: 0.3594\n",
            "Epoch 2/30\n",
            "1/0 [===========================================================================================================] - 17s 17s/step - loss: 5.3892 - acc: 0.3125 - val_loss: 4.3791 - val_acc: 0.3125\n",
            "Epoch 3/30\n",
            "1/0 [===========================================================================================================] - 14s 14s/step - loss: 4.6154 - acc: 0.3125 - val_loss: 4.3179 - val_acc: 0.1719\n",
            "\n",
            "Epoch 00003: ReduceLROnPlateau reducing learning rate to 0.0005000000237487257.\n",
            "Epoch 4/30\n",
            "1/0 [===========================================================================================================] - 15s 15s/step - loss: 3.5978 - acc: 0.4062 - val_loss: 2.9113 - val_acc: 0.3281\n",
            "Epoch 5/30\n",
            "1/0 [===========================================================================================================] - 14s 14s/step - loss: 3.6167 - acc: 0.3750 - val_loss: 2.7572 - val_acc: 0.2344\n",
            "\n",
            "Epoch 00005: ReduceLROnPlateau reducing learning rate to 0.0002500000118743628.\n",
            "Epoch 6/30\n",
            "1/0 [===========================================================================================================] - 13s 13s/step - loss: 3.2316 - acc: 0.2812 - val_loss: 3.3940 - val_acc: 0.2500\n",
            "Epoch 7/30\n",
            "1/0 [===========================================================================================================] - 15s 15s/step - loss: 6.1245 - acc: 0.2812 - val_loss: 3.9773 - val_acc: 0.2812\n",
            "\n",
            "Epoch 00007: ReduceLROnPlateau reducing learning rate to 0.0001250000059371814.\n",
            "Epoch 8/30\n",
            "1/0 [===========================================================================================================] - 12s 12s/step - loss: 4.1416 - acc: 0.2500 - val_loss: 3.3315 - val_acc: 0.3019\n",
            "Epoch 9/30\n",
            "1/0 [===========================================================================================================] - 0s 234ms/step - loss: 3.5382 - acc: 0.3438 - val_loss: 2.4971 - val_acc: 0.3281\n",
            "\n",
            "Epoch 00009: ReduceLROnPlateau reducing learning rate to 6.25000029685907e-05.\n",
            "Epoch 10/30\n",
            "1/0 [===========================================================================================================] - 0s 278ms/step - loss: 2.7408 - acc: 0.3125 - val_loss: 3.6959 - val_acc: 0.2500\n",
            "Epoch 11/30\n",
            "1/0 [===========================================================================================================] - 0s 294ms/step - loss: 3.0073 - acc: 0.3125 - val_loss: 3.7988 - val_acc: 0.2500\n",
            "\n",
            "Epoch 00011: ReduceLROnPlateau reducing learning rate to 3.125000148429535e-05.\n",
            "Epoch 12/30\n",
            "1/0 [===========================================================================================================] - 0s 276ms/step - loss: 2.6497 - acc: 0.2500 - val_loss: 3.8456 - val_acc: 0.2188\n",
            "Epoch 13/30\n",
            "1/0 [===========================================================================================================] - 0s 279ms/step - loss: 3.6011 - acc: 0.3438 - val_loss: 2.4494 - val_acc: 0.3125\n",
            "\n",
            "Epoch 00013: ReduceLROnPlateau reducing learning rate to 1.5625000742147677e-05.\n",
            "Epoch 14/30\n",
            "1/0 [===========================================================================================================] - 0s 287ms/step - loss: 5.6865 - acc: 0.1250 - val_loss: 3.6548 - val_acc: 0.2812\n",
            "Epoch 15/30\n",
            "1/0 [===========================================================================================================] - 1s 1s/step - loss: 4.2373 - acc: 0.1875 - val_loss: 3.0075 - val_acc: 0.2656\n",
            "\n",
            "Epoch 00015: ReduceLROnPlateau reducing learning rate to 1e-05.\n",
            "Epoch 16/30\n",
            "1/0 [===========================================================================================================] - 7s 7s/step - loss: 5.1016 - acc: 0.2500 - val_loss: 3.2829 - val_acc: 0.2453\n",
            "Epoch 17/30\n",
            "1/0 [===========================================================================================================] - 7s 7s/step - loss: 4.8714 - acc: 0.1875 - val_loss: 3.1029 - val_acc: 0.3438\n",
            "Epoch 18/30\n",
            "1/0 [===========================================================================================================] - 6s 6s/step - loss: 1.8443 - acc: 0.3125 - val_loss: 2.5284 - val_acc: 0.2656\n",
            "Epoch 19/30\n",
            "1/0 [===========================================================================================================] - 7s 7s/step - loss: 2.6180 - acc: 0.3438 - val_loss: 2.5652 - val_acc: 0.2812\n",
            "Epoch 20/30\n",
            "1/0 [===========================================================================================================] - 7s 7s/step - loss: 5.5095 - acc: 0.0938 - val_loss: 3.8858 - val_acc: 0.2500\n",
            "Epoch 21/30\n",
            "1/0 [===========================================================================================================] - 7s 7s/step - loss: 3.7115 - acc: 0.1250 - val_loss: 3.4849 - val_acc: 0.2500\n",
            "Epoch 22/30\n",
            "1/0 [===========================================================================================================] - 8s 8s/step - loss: 2.7608 - acc: 0.2812 - val_loss: 2.9807 - val_acc: 0.2500\n",
            "Epoch 23/30\n",
            "1/0 [===========================================================================================================] - 6s 6s/step - loss: 3.4554 - acc: 0.2188 - val_loss: 3.9176 - val_acc: 0.2656\n"
          ],
          "name": "stdout"
        }
      ]
    },
    {
      "cell_type": "code",
      "metadata": {
        "id": "fkEwPTo0miBh",
        "colab_type": "code",
        "colab": {}
      },
      "source": [
        "#Save Model (if you're happy with it)\n",
        "# Save the weights\n",
        "model.save_weights('model_weights.h5')\n",
        "\n",
        "# Save the model architecture\n",
        "with open('model_architecture.json', 'w') as f:\n",
        "    f.write(model.to_json())"
      ],
      "execution_count": 0,
      "outputs": []
    },
    {
      "cell_type": "code",
      "metadata": {
        "id": "OT3Vdk5Vmmx_",
        "colab_type": "code",
        "outputId": "b9325f89-5830-4bac-d58f-33beff8bbcc2",
        "colab": {
          "base_uri": "https://localhost:8080/",
          "height": 269
        }
      },
      "source": [
        "#Virtualize Training\n",
        "\n",
        "fig, ax = plt.subplots(2,1)\n",
        "ax[0].plot(history.history['loss'], color='b', label=\"Training loss\")\n",
        "ax[0].plot(history.history['val_loss'], color='r', label=\"validation loss\",axes =ax[0])\n",
        "legend = ax[0].legend(loc='best', shadow=True)\n",
        "\n",
        "ax[1].plot(history.history['acc'], color='b', label=\"Training accuracy\")\n",
        "ax[1].plot(history.history['val_acc'], color='r',label=\"Validation accuracy\")\n",
        "legend = ax[1].legend(loc='best', shadow=True)"
      ],
      "execution_count": 43,
      "outputs": [
        {
          "output_type": "display_data",
          "data": {
            "image/png": "[encoded data removed]",
            "text/plain": [
              "<Figure size 432x288 with 2 Axes>"
            ]
          },
          "metadata": {
            "tags": []
          }
        }
      ]
    }
  ]
}